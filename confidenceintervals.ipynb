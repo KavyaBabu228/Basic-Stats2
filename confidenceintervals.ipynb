{
 "cells": [
  {
   "cell_type": "code",
   "execution_count": 1,
   "id": "600ff36a-fe89-43f7-a1b3-fc984214fb96",
   "metadata": {},
   "outputs": [
    {
     "name": "stdout",
     "output_type": "stream",
     "text": [
      "Sample Mean: 1.2386666666666666\n",
      "Sample Standard Deviation: 0.19316412956959936\n"
     ]
    }
   ],
   "source": [
    "import numpy as np\n",
    "\n",
    "data = [1.13, 1.55, 1.43, 0.92, 1.25, 1.36, 1.32, 0.85, 1.07, 1.48, 1.20, 1.33, 1.18, 1.22, 1.29]\n",
    "mean = np.mean(data)\n",
    "std_dev = np.std(data, ddof=1)  \n",
    "n = len(data)\n",
    "\n",
    "print(\"Sample Mean:\", mean)\n",
    "print(\"Sample Standard Deviation:\", std_dev)\n"
   ]
  },
  {
   "cell_type": "code",
   "execution_count": 3,
   "id": "22c6b8e6-1759-4b5b-8711-d4cfd6ce875e",
   "metadata": {},
   "outputs": [
    {
     "name": "stdout",
     "output_type": "stream",
     "text": [
      "99% Confidence Interval: (1.0901973384384906, 1.3871359948948425)\n"
     ]
    }
   ],
   "source": [
    "import scipy.stats as stats\n",
    "\n",
    "alpha = 0.01  \n",
    "t_critical = stats.t.ppf(1 - alpha/2, df=n-1)\n",
    "\n",
    "margin_of_error = t_critical * (std_dev / np.sqrt(n))\n",
    "\n",
    "CI_lower = mean - margin_of_error\n",
    "CI_upper = mean + margin_of_error\n",
    "\n",
    "print(\"99% Confidence Interval:\", (CI_lower, CI_upper))\n"
   ]
  },
  {
   "cell_type": "code",
   "execution_count": 5,
   "id": "f6509d7e-26d7-4954-a8dd-85c9c5b811cb",
   "metadata": {},
   "outputs": [
    {
     "name": "stdout",
     "output_type": "stream",
     "text": [
      "99% Confidence Interval with Known Population Standard Deviation: (1.1056514133957607, 1.3716819199375725)\n"
     ]
    }
   ],
   "source": [
    "z_critical = stats.norm.ppf(1 - alpha/2)\n",
    "pop_std_dev = 0.2\n",
    "\n",
    "margin_of_error_pop = z_critical * (pop_std_dev / np.sqrt(n))\n",
    "\n",
    "CI_lower_pop = mean - margin_of_error_pop\n",
    "CI_upper_pop = mean + margin_of_error_pop\n",
    "\n",
    "print(\"99% Confidence Interval with Known Population Standard Deviation:\", (CI_lower_pop, CI_upper_pop))\n"
   ]
  },
  {
   "cell_type": "code",
   "execution_count": null,
   "id": "fba0a2cb-4798-4703-9d73-b09a2d7d6b87",
   "metadata": {},
   "outputs": [],
   "source": []
  }
 ],
 "metadata": {
  "kernelspec": {
   "display_name": "Python 3 (ipykernel)",
   "language": "python",
   "name": "python3"
  },
  "language_info": {
   "codemirror_mode": {
    "name": "ipython",
    "version": 3
   },
   "file_extension": ".py",
   "mimetype": "text/x-python",
   "name": "python",
   "nbconvert_exporter": "python",
   "pygments_lexer": "ipython3",
   "version": "3.12.4"
  }
 },
 "nbformat": 4,
 "nbformat_minor": 5
}
